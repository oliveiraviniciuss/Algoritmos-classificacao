{
 "cells": [
  {
   "cell_type": "code",
   "execution_count": 1,
   "metadata": {},
   "outputs": [],
   "source": [
    "#numpy para alguns cálculos\n",
    "import numpy as np\n",
    "#conjunto de dados e separacao treino/teste\n",
    "from sklearn import model_selection\n",
    "#modelos escolhidos\n",
    "from sklearn.neighbors import KNeighborsClassifier\n",
    "from sklearn.naive_bayes import GaussianNB\n",
    "from sklearn.tree import DecisionTreeClassifier\n",
    "#validacao cruzada para escolha de parametros\n",
    "from sklearn.model_selection import cross_val_score\n",
    "#metricas solicitadas\n",
    "from sklearn.metrics import accuracy_score, f1_score"
   ]
  },
  {
   "cell_type": "code",
   "execution_count": 2,
   "metadata": {
    "scrolled": true
   },
   "outputs": [
    {
     "name": "stdout",
     "output_type": "stream",
     "text": [
      "(1797, 64) (1797,)\n"
     ]
    }
   ],
   "source": [
    "data = [] \n",
    "target = []\n",
    "with open('dataset.txt') as f:\n",
    "    for line in f: \n",
    "        v = line.strip().split(\",\")\n",
    "        data.append(v[:-1])\n",
    "        target.append(v[-1])\n",
    "data = np.array(data)\n",
    "data = data.astype(np.float)\n",
    "target = np.array(target)\n",
    "target = target.astype(np.float)\n",
    "print(data.shape,target.shape)\n",
    "\n"
   ]
  },
  {
   "cell_type": "code",
   "execution_count": 3,
   "metadata": {},
   "outputs": [
    {
     "name": "stdout",
     "output_type": "stream",
     "text": [
      "(1437, 64) (360, 64) (1437,) (360,)\n"
     ]
    }
   ],
   "source": [
    "#separando o conjunto de dados\n",
    "\n",
    "X_train, X_test, Y_train, Y_test = model_selection.train_test_split(data, target, test_size=0.2)\n",
    "print (X_train.shape, X_test.shape, Y_train.shape, Y_test.shape)"
   ]
  },
  {
   "cell_type": "code",
   "execution_count": 4,
   "metadata": {},
   "outputs": [],
   "source": [
    "#validacao cruzada para escolher os parametros do classificador\n",
    "from sklearn.model_selection import GridSearchCV\n",
    "\n",
    "parameters = {'n_neighbors':range(2,8)}\n",
    "clf = KNeighborsClassifier()\n",
    "KNN_clf = GridSearchCV(clf,parameters)\n",
    "KNN_clf.fit(X_train,Y_train)\n",
    "maxx = np.argmax(KNN_clf.cv_results_['mean_test_score'])\n",
    "\n",
    "\n",
    "KNN_clf = KNeighborsClassifier(KNN_clf.cv_results_['param_n_neighbors'][maxx])\n",
    "\n",
    "\n",
    "\n",
    "NB_clf = GaussianNB()\n",
    "\n",
    "\n",
    "\n",
    "parameters = {'max_depth':range(8,20)}\n",
    "clf = DecisionTreeClassifier()\n",
    "DTC_clf = GridSearchCV(clf,parameters)\n",
    "DTC_clf.fit(X_train,Y_train)\n",
    "maxx = np.argmax(DTC_clf.cv_results_['mean_test_score'])\n",
    "\n",
    "DTC_clf = DecisionTreeClassifier(max_depth = DTC_clf.cv_results_['param_max_depth'][maxx])\n",
    "\n",
    "#DTC_clf.fit(X_train,Y_train)\n"
   ]
  },
  {
   "cell_type": "code",
   "execution_count": 5,
   "metadata": {},
   "outputs": [],
   "source": [
    "#classificador 1 - KNN\n",
    "\n",
    "KNN_clf.fit(X_train, Y_train)\n",
    "\n",
    "KNN_pred = KNN_clf.predict(X_test)\n",
    "\n",
    "#métricas\n",
    "\n",
    "KNN_microf1 = f1_score(Y_test, KNN_pred, average='micro')\n",
    "KNN_macrof1 = f1_score(Y_test, KNN_pred, average='macro')\n",
    "KNN_accuracy = accuracy_score(Y_test, KNN_pred)\n"
   ]
  },
  {
   "cell_type": "code",
   "execution_count": 6,
   "metadata": {
    "scrolled": true
   },
   "outputs": [],
   "source": [
    "#classificador 2 - Naive Bayes\n",
    "\n",
    "NB_clf.fit(X_train, Y_train)\n",
    "\n",
    "NB_pred = NB_clf.predict(X_test)\n",
    "\n",
    "#métricas\n",
    "\n",
    "NB_microf1 = f1_score(Y_test, NB_pred, average='micro')\n",
    "NB_macrof1 = f1_score(Y_test, NB_pred, average='macro')\n",
    "NB_accuracy = accuracy_score(Y_test, NB_pred)"
   ]
  },
  {
   "cell_type": "code",
   "execution_count": 7,
   "metadata": {},
   "outputs": [],
   "source": [
    "#classificador 3 - DTC\n",
    "\n",
    "DTC_clf.fit(X_train, Y_train)\n",
    "\n",
    "DTC_pred = DTC_clf.predict(X_test)\n",
    "        \n",
    "#métricas\n",
    "\n",
    "DTC_microf1 = f1_score(Y_test, DTC_pred, average='micro')\n",
    "DTC_macrof1 = f1_score(Y_test, DTC_pred, average='macro')\n",
    "DTC_accuracy = accuracy_score(Y_test, DTC_pred)"
   ]
  },
  {
   "cell_type": "code",
   "execution_count": 8,
   "metadata": {},
   "outputs": [
    {
     "name": "stdout",
     "output_type": "stream",
     "text": [
      "['', 'Micro F1', 'Macro F1', 'Acurácia']\n",
      "['Classificador 1', 0.9944444444444445, 0.9940377737252074, 0.9944444444444445]\n",
      "['Classificador 2', 0.825, 0.8274524352742763, 0.825]\n",
      "['Classificador 3', 0.8555555555555555, 0.8567412741535968, 0.8555555555555555]\n"
     ]
    }
   ],
   "source": [
    "#tabela de comparação das métricas\n",
    "\n",
    "#from IPython.display import HTML, display\n",
    "#import tabulate\n",
    "\n",
    "table = [[\"\", \"Micro F1\", \"Macro F1\", \"Acurácia\"],\n",
    "         [\"Classificador 1\",KNN_microf1, KNN_macrof1, KNN_accuracy],\n",
    "         [\"Classificador 2\",NB_microf1, NB_macrof1, NB_accuracy],\n",
    "         [\"Classificador 3\",DTC_microf1, DTC_macrof1, DTC_accuracy]]\n",
    "\n",
    "for i in range(4):\n",
    "    print(table[i])\n",
    "\n",
    "#display(HTML(tabulate.tabulate(table, tablefmt='html')))"
   ]
  }
 ],
 "metadata": {
  "kernelspec": {
   "display_name": "Python 3",
   "language": "python",
   "name": "python3"
  },
  "language_info": {
   "codemirror_mode": {
    "name": "ipython",
    "version": 3
   },
   "file_extension": ".py",
   "mimetype": "text/x-python",
   "name": "python",
   "nbconvert_exporter": "python",
   "pygments_lexer": "ipython3",
   "version": "3.6.5"
  }
 },
 "nbformat": 4,
 "nbformat_minor": 2
}
